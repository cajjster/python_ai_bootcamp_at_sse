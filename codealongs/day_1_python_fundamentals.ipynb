{
 "cells": [
  {
   "cell_type": "markdown",
   "id": "05c86a23",
   "metadata": {},
   "source": [
    "# Python Fundamentals"
   ]
  },
  {
   "cell_type": "code",
   "execution_count": 2,
   "id": "13fdf252",
   "metadata": {},
   "outputs": [],
   "source": [
    "# run this cell to save the data structures, we will use them later in this lecture.\n",
    "max_menus = {\n",
    "    \"Max Meny\": 79.00,\n",
    "    \"Max Dubbel Meny\": 109.00,\n",
    "    \"Kyckling Meny\": 79.00,\n",
    "    \"Vegetarisk Meny\": 85.00,\n",
    "    \"Max 3 Meny\": 99.00\n",
    "}\n",
    "\n",
    "queue = [90, 120, 122, 140, 139, 142, 145, 150, 160, 115, 140, 141, 122, 140, \n",
    "         139, 142, 145, 150, 160, 90, 120, 122, 140, 139, 142, 145, 150, 160]\n",
    "\n",
    "products = [{'name': 'Nintendo Switch', 'price': 3000, 'quantity': 10},  {'name': 'AirPods Pro', 'price': 2999, 'quantity': 0}, \n",
    "            {'name': 'Instant Pot', 'price': 499, 'quantity': 20},    {'name': 'Fitbit Charge 4', 'price': 1699, 'quantity': 0}, \n",
    "            {'name': 'Dyson Airwrap', 'price': 6999, 'quantity': 8}]"
   ]
  },
  {
   "cell_type": "code",
   "execution_count": 1,
   "id": "7f355a99",
   "metadata": {},
   "outputs": [
    {
     "name": "stdout",
     "output_type": "stream",
     "text": [
      "Hello, World!\n"
     ]
    }
   ],
   "source": [
    "print(\"Hello, World!\")"
   ]
  },
  {
   "cell_type": "code",
   "execution_count": 3,
   "id": "8ca954a8",
   "metadata": {},
   "outputs": [
    {
     "data": {
      "text/plain": [
       "'I want to learn python'"
      ]
     },
     "execution_count": 3,
     "metadata": {},
     "output_type": "execute_result"
    }
   ],
   "source": [
    "\"I want to learn python\""
   ]
  },
  {
   "cell_type": "code",
   "execution_count": 5,
   "id": "002e5dfb",
   "metadata": {},
   "outputs": [
    {
     "data": {
      "text/plain": [
       "'I am motivated to code'"
      ]
     },
     "execution_count": 5,
     "metadata": {},
     "output_type": "execute_result"
    }
   ],
   "source": [
    "\"I want to learn python\"\n",
    "\"I am motivated to code\""
   ]
  },
  {
   "cell_type": "code",
   "execution_count": 6,
   "id": "4b7d4eb3",
   "metadata": {},
   "outputs": [
    {
     "name": "stdout",
     "output_type": "stream",
     "text": [
      "I want to learn python\n",
      "I am motivated to code\n"
     ]
    }
   ],
   "source": [
    "print(\"I want to learn python\")\n",
    "print(\"I am motivated to code\")"
   ]
  },
  {
   "cell_type": "markdown",
   "id": "182340fd",
   "metadata": {},
   "source": [
    "## Variables & The 4 data types"
   ]
  },
  {
   "cell_type": "code",
   "execution_count": 7,
   "id": "827c4b78",
   "metadata": {},
   "outputs": [],
   "source": [
    "my_var = \"A variable is a name that holds a specific value.\""
   ]
  },
  {
   "cell_type": "code",
   "execution_count": 8,
   "id": "e19455d7",
   "metadata": {},
   "outputs": [
    {
     "data": {
      "text/plain": [
       "'A variable is a name that holds a specific value.'"
      ]
     },
     "execution_count": 8,
     "metadata": {},
     "output_type": "execute_result"
    }
   ],
   "source": [
    "my_var"
   ]
  },
  {
   "cell_type": "code",
   "execution_count": 9,
   "id": "d039a337",
   "metadata": {},
   "outputs": [
    {
     "name": "stdout",
     "output_type": "stream",
     "text": [
      "how old are you? 29\n",
      "What's your name? Axel\n"
     ]
    }
   ],
   "source": [
    "age = input(\"how old are you? \")\n",
    "name = input(\"What's your name? \")"
   ]
  },
  {
   "cell_type": "code",
   "execution_count": 10,
   "id": "0d251d34",
   "metadata": {},
   "outputs": [
    {
     "data": {
      "text/plain": [
       "('Axel', '29')"
      ]
     },
     "execution_count": 10,
     "metadata": {},
     "output_type": "execute_result"
    }
   ],
   "source": [
    "name, age"
   ]
  },
  {
   "cell_type": "code",
   "execution_count": 11,
   "id": "785aff7b",
   "metadata": {},
   "outputs": [
    {
     "name": "stdout",
     "output_type": "stream",
     "text": [
      "My name is Axel and I am 29 years old!\n"
     ]
    }
   ],
   "source": [
    "print(\"My name is\", name, \"and I am\", age, \"years old!\")"
   ]
  },
  {
   "cell_type": "code",
   "execution_count": 12,
   "id": "e8eff549",
   "metadata": {},
   "outputs": [
    {
     "name": "stdout",
     "output_type": "stream",
     "text": [
      "My name is Axel and I am 29 years old!\n"
     ]
    }
   ],
   "source": [
    "# f-strings\n",
    "print(f\"My name is {name} and I am {age} years old!\")"
   ]
  },
  {
   "cell_type": "code",
   "execution_count": 14,
   "id": "d8311b9d",
   "metadata": {},
   "outputs": [
    {
     "data": {
      "text/plain": [
       "'strings can be made with single quotes'"
      ]
     },
     "execution_count": 14,
     "metadata": {},
     "output_type": "execute_result"
    }
   ],
   "source": [
    "'strings can be made with single quotes'"
   ]
  },
  {
   "cell_type": "code",
   "execution_count": 15,
   "id": "550624c9",
   "metadata": {},
   "outputs": [],
   "source": [
    "my_str = \"Strings are very useful\""
   ]
  },
  {
   "cell_type": "code",
   "execution_count": 16,
   "id": "1ac20628",
   "metadata": {},
   "outputs": [
    {
     "data": {
      "text/plain": [
       "'S'"
      ]
     },
     "execution_count": 16,
     "metadata": {},
     "output_type": "execute_result"
    }
   ],
   "source": [
    "# strings record text information\n",
    "# they are called sequences and python keeps track of characters by their index position\n",
    "my_str[0]"
   ]
  },
  {
   "cell_type": "code",
   "execution_count": 17,
   "id": "54771cee",
   "metadata": {},
   "outputs": [
    {
     "data": {
      "text/plain": [
       "23"
      ]
     },
     "execution_count": 17,
     "metadata": {},
     "output_type": "execute_result"
    }
   ],
   "source": [
    "len(my_str)"
   ]
  },
  {
   "cell_type": "code",
   "execution_count": 19,
   "id": "4a0cb407",
   "metadata": {},
   "outputs": [
    {
     "data": {
      "text/plain": [
       "'l'"
      ]
     },
     "execution_count": 19,
     "metadata": {},
     "output_type": "execute_result"
    }
   ],
   "source": [
    "my_str[22]"
   ]
  },
  {
   "cell_type": "code",
   "execution_count": 20,
   "id": "02c1268d",
   "metadata": {},
   "outputs": [
    {
     "data": {
      "text/plain": [
       "'l'"
      ]
     },
     "execution_count": 20,
     "metadata": {},
     "output_type": "execute_result"
    }
   ],
   "source": [
    "my_str[-1]"
   ]
  },
  {
   "cell_type": "code",
   "execution_count": 21,
   "id": "22d49eb7",
   "metadata": {},
   "outputs": [
    {
     "data": {
      "text/plain": [
       "'u'"
      ]
     },
     "execution_count": 21,
     "metadata": {},
     "output_type": "execute_result"
    }
   ],
   "source": [
    "my_str[-2]"
   ]
  },
  {
   "cell_type": "code",
   "execution_count": 24,
   "id": "8f21c8eb",
   "metadata": {},
   "outputs": [
    {
     "data": {
      "text/plain": [
       "'String'"
      ]
     },
     "execution_count": 24,
     "metadata": {},
     "output_type": "execute_result"
    }
   ],
   "source": [
    "# [start:stop]\n",
    "# stop index is exclusive\n",
    "my_str[:6]"
   ]
  },
  {
   "cell_type": "code",
   "execution_count": 26,
   "id": "b5060036",
   "metadata": {},
   "outputs": [
    {
     "data": {
      "text/plain": [
       "'are very useful'"
      ]
     },
     "execution_count": 26,
     "metadata": {},
     "output_type": "execute_result"
    }
   ],
   "source": [
    "# 8th to the end\n",
    "my_str[8:]"
   ]
  },
  {
   "cell_type": "code",
   "execution_count": 29,
   "id": "97e94a59",
   "metadata": {},
   "outputs": [
    {
     "data": {
      "text/plain": [
       "'Srnsaevr sfl'"
      ]
     },
     "execution_count": 29,
     "metadata": {},
     "output_type": "execute_result"
    }
   ],
   "source": [
    "# [start:stop:step]\n",
    "my_str[::2]"
   ]
  },
  {
   "cell_type": "code",
   "execution_count": 30,
   "id": "17dc39e4",
   "metadata": {},
   "outputs": [
    {
     "data": {
      "text/plain": [
       "'lufesu yrev era sgnirtS'"
      ]
     },
     "execution_count": 30,
     "metadata": {},
     "output_type": "execute_result"
    }
   ],
   "source": [
    "my_str[::-1]"
   ]
  },
  {
   "cell_type": "code",
   "execution_count": 31,
   "id": "ccb860c4",
   "metadata": {},
   "outputs": [
    {
     "data": {
      "text/plain": [
       "'2323'"
      ]
     },
     "execution_count": 31,
     "metadata": {},
     "output_type": "execute_result"
    }
   ],
   "source": [
    "\"23\" + \"23\""
   ]
  },
  {
   "cell_type": "code",
   "execution_count": 32,
   "id": "b9f8bb28",
   "metadata": {},
   "outputs": [
    {
     "data": {
      "text/plain": [
       "'We like Python'"
      ]
     },
     "execution_count": 32,
     "metadata": {},
     "output_type": "execute_result"
    }
   ],
   "source": [
    "\"We like\" + \" Python\""
   ]
  },
  {
   "cell_type": "code",
   "execution_count": 33,
   "id": "b3ee1c72",
   "metadata": {},
   "outputs": [
    {
     "data": {
      "text/plain": [
       "35"
      ]
     },
     "execution_count": 33,
     "metadata": {},
     "output_type": "execute_result"
    }
   ],
   "source": [
    "23 + 12"
   ]
  },
  {
   "cell_type": "code",
   "execution_count": 34,
   "id": "bae7def6",
   "metadata": {},
   "outputs": [
    {
     "data": {
      "text/plain": [
       "26.5"
      ]
     },
     "execution_count": 34,
     "metadata": {},
     "output_type": "execute_result"
    }
   ],
   "source": [
    "23.3 + 3.2"
   ]
  },
  {
   "cell_type": "code",
   "execution_count": 35,
   "id": "958b53f5",
   "metadata": {},
   "outputs": [
    {
     "data": {
      "text/plain": [
       "0.5"
      ]
     },
     "execution_count": 35,
     "metadata": {},
     "output_type": "execute_result"
    }
   ],
   "source": [
    ".5"
   ]
  },
  {
   "cell_type": "code",
   "execution_count": 36,
   "id": "c1a35230",
   "metadata": {},
   "outputs": [
    {
     "data": {
      "text/plain": [
       "483"
      ]
     },
     "execution_count": 36,
     "metadata": {},
     "output_type": "execute_result"
    }
   ],
   "source": [
    "23 * 21"
   ]
  },
  {
   "cell_type": "code",
   "execution_count": 37,
   "id": "4632ecbf",
   "metadata": {},
   "outputs": [
    {
     "data": {
      "text/plain": [
       "21"
      ]
     },
     "execution_count": 37,
     "metadata": {},
     "output_type": "execute_result"
    }
   ],
   "source": [
    "23 - 2"
   ]
  },
  {
   "cell_type": "code",
   "execution_count": 38,
   "id": "88e3b3cb",
   "metadata": {},
   "outputs": [
    {
     "data": {
      "text/plain": [
       "5.75"
      ]
     },
     "execution_count": 38,
     "metadata": {},
     "output_type": "execute_result"
    }
   ],
   "source": [
    "23 / 4"
   ]
  },
  {
   "cell_type": "code",
   "execution_count": 39,
   "id": "587f2935",
   "metadata": {},
   "outputs": [
    {
     "data": {
      "text/plain": [
       "12167"
      ]
     },
     "execution_count": 39,
     "metadata": {},
     "output_type": "execute_result"
    }
   ],
   "source": [
    "23 ** 3"
   ]
  },
  {
   "cell_type": "code",
   "execution_count": 40,
   "id": "1c154a2a",
   "metadata": {},
   "outputs": [
    {
     "data": {
      "text/plain": [
       "4.795831523312719"
      ]
     },
     "execution_count": 40,
     "metadata": {},
     "output_type": "execute_result"
    }
   ],
   "source": [
    "23 ** 0.5"
   ]
  },
  {
   "cell_type": "code",
   "execution_count": 41,
   "id": "d4b349bb",
   "metadata": {},
   "outputs": [
    {
     "data": {
      "text/plain": [
       "9.0"
      ]
     },
     "execution_count": 41,
     "metadata": {},
     "output_type": "execute_result"
    }
   ],
   "source": [
    "import math\n",
    "\n",
    "math.sqrt(81)"
   ]
  },
  {
   "cell_type": "code",
   "execution_count": 42,
   "id": "43436272",
   "metadata": {},
   "outputs": [
    {
     "data": {
      "text/plain": [
       "1"
      ]
     },
     "execution_count": 42,
     "metadata": {},
     "output_type": "execute_result"
    }
   ],
   "source": [
    "7 % 3"
   ]
  },
  {
   "cell_type": "code",
   "execution_count": 43,
   "id": "dfa755b7",
   "metadata": {},
   "outputs": [
    {
     "data": {
      "text/plain": [
       "True"
      ]
     },
     "execution_count": 43,
     "metadata": {},
     "output_type": "execute_result"
    }
   ],
   "source": [
    "odd = 7\n",
    "even = 6\n",
    "\n",
    "even % 2 == 0"
   ]
  },
  {
   "cell_type": "code",
   "execution_count": 44,
   "id": "8964fbce",
   "metadata": {},
   "outputs": [
    {
     "data": {
      "text/plain": [
       "False"
      ]
     },
     "execution_count": 44,
     "metadata": {},
     "output_type": "execute_result"
    }
   ],
   "source": [
    "odd % 2 == 0"
   ]
  },
  {
   "cell_type": "code",
   "execution_count": 45,
   "id": "47ba71d6",
   "metadata": {},
   "outputs": [
    {
     "data": {
      "text/plain": [
       "True"
      ]
     },
     "execution_count": 45,
     "metadata": {},
     "output_type": "execute_result"
    }
   ],
   "source": [
    "True"
   ]
  },
  {
   "cell_type": "code",
   "execution_count": 47,
   "id": "5300f7a6",
   "metadata": {},
   "outputs": [
    {
     "data": {
      "text/plain": [
       "False"
      ]
     },
     "execution_count": 47,
     "metadata": {},
     "output_type": "execute_result"
    }
   ],
   "source": [
    "False"
   ]
  },
  {
   "cell_type": "code",
   "execution_count": 48,
   "id": "ed769dac",
   "metadata": {},
   "outputs": [
    {
     "data": {
      "text/plain": [
       "1"
      ]
     },
     "execution_count": 48,
     "metadata": {},
     "output_type": "execute_result"
    }
   ],
   "source": [
    "True + False"
   ]
  },
  {
   "cell_type": "markdown",
   "id": "3b984eeb",
   "metadata": {},
   "source": [
    "## Conditional logic | if-statements + and + or"
   ]
  },
  {
   "cell_type": "code",
   "execution_count": 52,
   "id": "dc0935fd",
   "metadata": {},
   "outputs": [
    {
     "name": "stdout",
     "output_type": "stream",
     "text": [
      "Time for a fika break\n"
     ]
    }
   ],
   "source": [
    "is_hungry = True\n",
    "\n",
    "if is_hungry:\n",
    "    print(\"Time for a fika break\")"
   ]
  },
  {
   "cell_type": "code",
   "execution_count": 57,
   "id": "e386d2a5",
   "metadata": {},
   "outputs": [
    {
     "name": "stdout",
     "output_type": "stream",
     "text": [
      "I don't need fika\n"
     ]
    }
   ],
   "source": [
    "is_hungry = False\n",
    "\n",
    "if is_hungry:\n",
    "    print(\"Time for a fika break\")\n",
    "else:\n",
    "    print(\"I don't need fika\")"
   ]
  },
  {
   "cell_type": "code",
   "execution_count": 60,
   "id": "6bfc7399",
   "metadata": {},
   "outputs": [
    {
     "name": "stdout",
     "output_type": "stream",
     "text": [
      "How old are you? 67\n",
      "You are probably retired\n"
     ]
    }
   ],
   "source": [
    "age = input(\"How old are you? \")\n",
    "age = int(age)\n",
    "\n",
    "if age >= 0 and age < 13:\n",
    "    print(\"Child\")\n",
    "elif age >= 13 and age < 20:\n",
    "    print(\"Teenager\")\n",
    "elif age >= 20 and age < 67:\n",
    "    print(\"Adult\")\n",
    "else:\n",
    "    print(\"You are probably retired\")\n",
    "    "
   ]
  },
  {
   "cell_type": "markdown",
   "id": "0f64b34d",
   "metadata": {},
   "source": [
    "## Lists"
   ]
  },
  {
   "cell_type": "code",
   "execution_count": 62,
   "id": "7e0d3841",
   "metadata": {},
   "outputs": [],
   "source": [
    "# lists are sequences meaning they are iterable\n",
    "# elements are ordered by index positions\n",
    "lst = [\"lists are the most commonly used data structure in python\", \"can hold any data type\", True,\n",
    "      2.4, 22, [2, 2, 2]]"
   ]
  },
  {
   "cell_type": "code",
   "execution_count": 71,
   "id": "e2bd416f",
   "metadata": {},
   "outputs": [
    {
     "data": {
      "text/plain": [
       "[]"
      ]
     },
     "execution_count": 71,
     "metadata": {},
     "output_type": "execute_result"
    }
   ],
   "source": [
    "list()"
   ]
  },
  {
   "cell_type": "code",
   "execution_count": 64,
   "id": "80fecadb",
   "metadata": {},
   "outputs": [
    {
     "data": {
      "text/plain": [
       "6"
      ]
     },
     "execution_count": 64,
     "metadata": {},
     "output_type": "execute_result"
    }
   ],
   "source": [
    "len(lst)"
   ]
  },
  {
   "cell_type": "code",
   "execution_count": 66,
   "id": "bb225627",
   "metadata": {},
   "outputs": [
    {
     "data": {
      "text/plain": [
       "'lists are the most commonly used data structure in python'"
      ]
     },
     "execution_count": 66,
     "metadata": {},
     "output_type": "execute_result"
    }
   ],
   "source": [
    "# indexing and slicing for lists is the same as for strings\n",
    "lst[0]"
   ]
  },
  {
   "cell_type": "code",
   "execution_count": 67,
   "id": "1aff02ea",
   "metadata": {},
   "outputs": [
    {
     "data": {
      "text/plain": [
       "['lists are the most commonly used data structure in python',\n",
       " 'can hold any data type',\n",
       " True]"
      ]
     },
     "execution_count": 67,
     "metadata": {},
     "output_type": "execute_result"
    }
   ],
   "source": [
    "lst[:3]"
   ]
  },
  {
   "cell_type": "code",
   "execution_count": 75,
   "id": "ec05afc9",
   "metadata": {},
   "outputs": [],
   "source": [
    "lst.append(1000)"
   ]
  },
  {
   "cell_type": "code",
   "execution_count": 76,
   "id": "ea702692",
   "metadata": {},
   "outputs": [
    {
     "data": {
      "text/plain": [
       "['lists are the most commonly used data structure in python',\n",
       " 'can hold any data type',\n",
       " True,\n",
       " 2.4,\n",
       " 22,\n",
       " [2, 2, 2],\n",
       " 1000,\n",
       " 1000,\n",
       " 1000]"
      ]
     },
     "execution_count": 76,
     "metadata": {},
     "output_type": "execute_result"
    }
   ],
   "source": [
    "lst"
   ]
  },
  {
   "cell_type": "code",
   "execution_count": 72,
   "id": "7b77122e",
   "metadata": {},
   "outputs": [
    {
     "data": {
      "text/plain": [
       "29"
      ]
     },
     "execution_count": 72,
     "metadata": {},
     "output_type": "execute_result"
    }
   ],
   "source": [
    "int(\"29\")"
   ]
  },
  {
   "cell_type": "code",
   "execution_count": 77,
   "id": "6e7ecb0f",
   "metadata": {},
   "outputs": [
    {
     "data": {
      "text/plain": [
       "[1, 2, 3, 12, 2]"
      ]
     },
     "execution_count": 77,
     "metadata": {},
     "output_type": "execute_result"
    }
   ],
   "source": [
    "[1,2,3] + [12,2]"
   ]
  },
  {
   "cell_type": "markdown",
   "id": "c2e90ab4",
   "metadata": {},
   "source": [
    "## Dictionaries"
   ]
  },
  {
   "cell_type": "code",
   "execution_count": 79,
   "id": "fe90e5b2",
   "metadata": {},
   "outputs": [],
   "source": [
    "dct = {\"Hello\": \"Hej\", \"Green\":\"Grön\"}"
   ]
  },
  {
   "cell_type": "code",
   "execution_count": 80,
   "id": "4ff52c2f",
   "metadata": {},
   "outputs": [
    {
     "data": {
      "text/plain": [
       "'Hej'"
      ]
     },
     "execution_count": 80,
     "metadata": {},
     "output_type": "execute_result"
    }
   ],
   "source": [
    "dct[\"Hello\"]"
   ]
  },
  {
   "cell_type": "code",
   "execution_count": 115,
   "id": "6b1c422f",
   "metadata": {},
   "outputs": [
    {
     "data": {
      "text/plain": [
       "(12, 23)"
      ]
     },
     "execution_count": 115,
     "metadata": {},
     "output_type": "execute_result"
    }
   ],
   "source": [
    "(12, 23)"
   ]
  },
  {
   "cell_type": "code",
   "execution_count": 114,
   "id": "0e9eb348",
   "metadata": {},
   "outputs": [
    {
     "data": {
      "text/plain": [
       "dict_items([('Hello', 'Hej'), ('Green', 'Grön')])"
      ]
     },
     "execution_count": 114,
     "metadata": {},
     "output_type": "execute_result"
    }
   ],
   "source": [
    "dct.items()"
   ]
  },
  {
   "cell_type": "code",
   "execution_count": 81,
   "id": "41ef64b7",
   "metadata": {},
   "outputs": [
    {
     "data": {
      "text/plain": [
       "{'Max Meny': 79.0,\n",
       " 'Max Dubbel Meny': 109.0,\n",
       " 'Kyckling Meny': 79.0,\n",
       " 'Vegetarisk Meny': 85.0,\n",
       " 'Max 3 Meny': 99.0}"
      ]
     },
     "execution_count": 81,
     "metadata": {},
     "output_type": "execute_result"
    }
   ],
   "source": [
    "max_menus"
   ]
  },
  {
   "cell_type": "code",
   "execution_count": 82,
   "id": "6a18bd25",
   "metadata": {},
   "outputs": [
    {
     "data": {
      "text/plain": [
       "79.0"
      ]
     },
     "execution_count": 82,
     "metadata": {},
     "output_type": "execute_result"
    }
   ],
   "source": [
    "max_menus[\"Max Meny\"]"
   ]
  },
  {
   "cell_type": "code",
   "execution_count": 83,
   "id": "bafd1c29",
   "metadata": {},
   "outputs": [],
   "source": [
    "max_menus[\"Max Meny\"] = 89.0"
   ]
  },
  {
   "cell_type": "code",
   "execution_count": 84,
   "id": "fd0cefbb",
   "metadata": {},
   "outputs": [
    {
     "data": {
      "text/plain": [
       "11.0"
      ]
     },
     "execution_count": 84,
     "metadata": {},
     "output_type": "execute_result"
    }
   ],
   "source": [
    "22 / 2"
   ]
  },
  {
   "cell_type": "code",
   "execution_count": 113,
   "id": "996fec83",
   "metadata": {},
   "outputs": [
    {
     "data": {
      "text/plain": [
       "dict_keys(['Max Meny', 'Max Dubbel Meny', 'Kyckling Meny', 'Vegetarisk Meny', 'Max 3 Meny'])"
      ]
     },
     "execution_count": 113,
     "metadata": {},
     "output_type": "execute_result"
    }
   ],
   "source": [
    "max_menus.keys()"
   ]
  },
  {
   "cell_type": "code",
   "execution_count": 111,
   "id": "3bdd4271",
   "metadata": {},
   "outputs": [
    {
     "data": {
      "text/plain": [
       "dict_keys(['Max Meny', 'Max Dubbel Meny', 'Kyckling Meny', 'Vegetarisk Meny', 'Max 3 Meny'])"
      ]
     },
     "execution_count": 111,
     "metadata": {},
     "output_type": "execute_result"
    }
   ],
   "source": [
    "max_menus.keys()"
   ]
  },
  {
   "cell_type": "code",
   "execution_count": 87,
   "id": "bd84c0e2",
   "metadata": {},
   "outputs": [
    {
     "data": {
      "text/plain": [
       "dict_values([89.0, 109.0, 79.0, 85.0, 99.0])"
      ]
     },
     "execution_count": 87,
     "metadata": {},
     "output_type": "execute_result"
    }
   ],
   "source": [
    "max_menus.values()"
   ]
  },
  {
   "cell_type": "code",
   "execution_count": 88,
   "id": "eddae2d1",
   "metadata": {},
   "outputs": [
    {
     "data": {
      "text/plain": [
       "dict_items([('Max Meny', 89.0), ('Max Dubbel Meny', 109.0), ('Kyckling Meny', 79.0), ('Vegetarisk Meny', 85.0), ('Max 3 Meny', 99.0)])"
      ]
     },
     "execution_count": 88,
     "metadata": {},
     "output_type": "execute_result"
    }
   ],
   "source": [
    "max_menus.items()"
   ]
  },
  {
   "cell_type": "markdown",
   "id": "28bceefe",
   "metadata": {},
   "source": [
    "## For Loops"
   ]
  },
  {
   "cell_type": "code",
   "execution_count": 89,
   "id": "0573ac31",
   "metadata": {
    "scrolled": true
   },
   "outputs": [
    {
     "name": "stdout",
     "output_type": "stream",
     "text": [
      "A loop is a way to repeat a set of instructions over and over again until a certain condition is met\n",
      "A loop is a way to repeat a set of instructions over and over again until a certain condition is met\n",
      "A loop is a way to repeat a set of instructions over and over again until a certain condition is met\n",
      "A loop is a way to repeat a set of instructions over and over again until a certain condition is met\n",
      "A loop is a way to repeat a set of instructions over and over again until a certain condition is met\n",
      "A loop is a way to repeat a set of instructions over and over again until a certain condition is met\n",
      "A loop is a way to repeat a set of instructions over and over again until a certain condition is met\n",
      "A loop is a way to repeat a set of instructions over and over again until a certain condition is met\n",
      "A loop is a way to repeat a set of instructions over and over again until a certain condition is met\n",
      "A loop is a way to repeat a set of instructions over and over again until a certain condition is met\n",
      "A loop is a way to repeat a set of instructions over and over again until a certain condition is met\n",
      "A loop is a way to repeat a set of instructions over and over again until a certain condition is met\n",
      "A loop is a way to repeat a set of instructions over and over again until a certain condition is met\n",
      "A loop is a way to repeat a set of instructions over and over again until a certain condition is met\n",
      "A loop is a way to repeat a set of instructions over and over again until a certain condition is met\n",
      "A loop is a way to repeat a set of instructions over and over again until a certain condition is met\n",
      "A loop is a way to repeat a set of instructions over and over again until a certain condition is met\n",
      "A loop is a way to repeat a set of instructions over and over again until a certain condition is met\n",
      "A loop is a way to repeat a set of instructions over and over again until a certain condition is met\n",
      "A loop is a way to repeat a set of instructions over and over again until a certain condition is met\n",
      "A loop is a way to repeat a set of instructions over and over again until a certain condition is met\n",
      "A loop is a way to repeat a set of instructions over and over again until a certain condition is met\n",
      "A loop is a way to repeat a set of instructions over and over again until a certain condition is met\n",
      "A loop is a way to repeat a set of instructions over and over again until a certain condition is met\n",
      "A loop is a way to repeat a set of instructions over and over again until a certain condition is met\n",
      "A loop is a way to repeat a set of instructions over and over again until a certain condition is met\n",
      "A loop is a way to repeat a set of instructions over and over again until a certain condition is met\n",
      "A loop is a way to repeat a set of instructions over and over again until a certain condition is met\n",
      "A loop is a way to repeat a set of instructions over and over again until a certain condition is met\n",
      "A loop is a way to repeat a set of instructions over and over again until a certain condition is met\n",
      "A loop is a way to repeat a set of instructions over and over again until a certain condition is met\n",
      "A loop is a way to repeat a set of instructions over and over again until a certain condition is met\n",
      "A loop is a way to repeat a set of instructions over and over again until a certain condition is met\n",
      "A loop is a way to repeat a set of instructions over and over again until a certain condition is met\n",
      "A loop is a way to repeat a set of instructions over and over again until a certain condition is met\n",
      "A loop is a way to repeat a set of instructions over and over again until a certain condition is met\n",
      "A loop is a way to repeat a set of instructions over and over again until a certain condition is met\n",
      "A loop is a way to repeat a set of instructions over and over again until a certain condition is met\n",
      "A loop is a way to repeat a set of instructions over and over again until a certain condition is met\n",
      "A loop is a way to repeat a set of instructions over and over again until a certain condition is met\n",
      "A loop is a way to repeat a set of instructions over and over again until a certain condition is met\n",
      "A loop is a way to repeat a set of instructions over and over again until a certain condition is met\n",
      "A loop is a way to repeat a set of instructions over and over again until a certain condition is met\n",
      "A loop is a way to repeat a set of instructions over and over again until a certain condition is met\n",
      "A loop is a way to repeat a set of instructions over and over again until a certain condition is met\n",
      "A loop is a way to repeat a set of instructions over and over again until a certain condition is met\n",
      "A loop is a way to repeat a set of instructions over and over again until a certain condition is met\n",
      "A loop is a way to repeat a set of instructions over and over again until a certain condition is met\n",
      "A loop is a way to repeat a set of instructions over and over again until a certain condition is met\n",
      "A loop is a way to repeat a set of instructions over and over again until a certain condition is met\n",
      "A loop is a way to repeat a set of instructions over and over again until a certain condition is met\n",
      "A loop is a way to repeat a set of instructions over and over again until a certain condition is met\n",
      "A loop is a way to repeat a set of instructions over and over again until a certain condition is met\n",
      "A loop is a way to repeat a set of instructions over and over again until a certain condition is met\n",
      "A loop is a way to repeat a set of instructions over and over again until a certain condition is met\n",
      "A loop is a way to repeat a set of instructions over and over again until a certain condition is met\n",
      "A loop is a way to repeat a set of instructions over and over again until a certain condition is met\n",
      "A loop is a way to repeat a set of instructions over and over again until a certain condition is met\n",
      "A loop is a way to repeat a set of instructions over and over again until a certain condition is met\n",
      "A loop is a way to repeat a set of instructions over and over again until a certain condition is met\n",
      "A loop is a way to repeat a set of instructions over and over again until a certain condition is met\n",
      "A loop is a way to repeat a set of instructions over and over again until a certain condition is met\n",
      "A loop is a way to repeat a set of instructions over and over again until a certain condition is met\n",
      "A loop is a way to repeat a set of instructions over and over again until a certain condition is met\n",
      "A loop is a way to repeat a set of instructions over and over again until a certain condition is met\n",
      "A loop is a way to repeat a set of instructions over and over again until a certain condition is met\n",
      "A loop is a way to repeat a set of instructions over and over again until a certain condition is met\n",
      "A loop is a way to repeat a set of instructions over and over again until a certain condition is met\n",
      "A loop is a way to repeat a set of instructions over and over again until a certain condition is met\n",
      "A loop is a way to repeat a set of instructions over and over again until a certain condition is met\n",
      "A loop is a way to repeat a set of instructions over and over again until a certain condition is met\n",
      "A loop is a way to repeat a set of instructions over and over again until a certain condition is met\n",
      "A loop is a way to repeat a set of instructions over and over again until a certain condition is met\n",
      "A loop is a way to repeat a set of instructions over and over again until a certain condition is met\n",
      "A loop is a way to repeat a set of instructions over and over again until a certain condition is met\n",
      "A loop is a way to repeat a set of instructions over and over again until a certain condition is met\n",
      "A loop is a way to repeat a set of instructions over and over again until a certain condition is met\n",
      "A loop is a way to repeat a set of instructions over and over again until a certain condition is met\n",
      "A loop is a way to repeat a set of instructions over and over again until a certain condition is met\n",
      "A loop is a way to repeat a set of instructions over and over again until a certain condition is met\n",
      "A loop is a way to repeat a set of instructions over and over again until a certain condition is met\n",
      "A loop is a way to repeat a set of instructions over and over again until a certain condition is met\n",
      "A loop is a way to repeat a set of instructions over and over again until a certain condition is met\n",
      "A loop is a way to repeat a set of instructions over and over again until a certain condition is met\n",
      "A loop is a way to repeat a set of instructions over and over again until a certain condition is met\n",
      "A loop is a way to repeat a set of instructions over and over again until a certain condition is met\n",
      "A loop is a way to repeat a set of instructions over and over again until a certain condition is met\n",
      "A loop is a way to repeat a set of instructions over and over again until a certain condition is met\n",
      "A loop is a way to repeat a set of instructions over and over again until a certain condition is met\n",
      "A loop is a way to repeat a set of instructions over and over again until a certain condition is met\n",
      "A loop is a way to repeat a set of instructions over and over again until a certain condition is met\n",
      "A loop is a way to repeat a set of instructions over and over again until a certain condition is met\n",
      "A loop is a way to repeat a set of instructions over and over again until a certain condition is met\n",
      "A loop is a way to repeat a set of instructions over and over again until a certain condition is met\n",
      "A loop is a way to repeat a set of instructions over and over again until a certain condition is met\n",
      "A loop is a way to repeat a set of instructions over and over again until a certain condition is met\n",
      "A loop is a way to repeat a set of instructions over and over again until a certain condition is met\n",
      "A loop is a way to repeat a set of instructions over and over again until a certain condition is met\n",
      "A loop is a way to repeat a set of instructions over and over again until a certain condition is met\n",
      "A loop is a way to repeat a set of instructions over and over again until a certain condition is met\n"
     ]
    }
   ],
   "source": [
    "loop_def = \"A loop is a way to repeat a set of instructions over and over again until a certain condition is met\"\n",
    "\n",
    "for i in range(100):\n",
    "    print(loop_def)"
   ]
  },
  {
   "cell_type": "code",
   "execution_count": 90,
   "id": "a80254d7",
   "metadata": {
    "collapsed": true
   },
   "outputs": [
    {
     "name": "stdout",
     "output_type": "stream",
     "text": [
      "0\n",
      "1\n",
      "2\n",
      "3\n",
      "4\n",
      "5\n",
      "6\n",
      "7\n",
      "8\n",
      "9\n",
      "10\n",
      "11\n",
      "12\n",
      "13\n",
      "14\n",
      "15\n",
      "16\n",
      "17\n",
      "18\n",
      "19\n",
      "20\n",
      "21\n",
      "22\n",
      "23\n",
      "24\n",
      "25\n",
      "26\n",
      "27\n",
      "28\n",
      "29\n",
      "30\n",
      "31\n",
      "32\n",
      "33\n",
      "34\n",
      "35\n",
      "36\n",
      "37\n",
      "38\n",
      "39\n",
      "40\n",
      "41\n",
      "42\n",
      "43\n",
      "44\n",
      "45\n",
      "46\n",
      "47\n",
      "48\n",
      "49\n",
      "50\n",
      "51\n",
      "52\n",
      "53\n",
      "54\n",
      "55\n",
      "56\n",
      "57\n",
      "58\n",
      "59\n",
      "60\n",
      "61\n",
      "62\n",
      "63\n",
      "64\n",
      "65\n",
      "66\n",
      "67\n",
      "68\n",
      "69\n",
      "70\n",
      "71\n",
      "72\n",
      "73\n",
      "74\n",
      "75\n",
      "76\n",
      "77\n",
      "78\n",
      "79\n",
      "80\n",
      "81\n",
      "82\n",
      "83\n",
      "84\n",
      "85\n",
      "86\n",
      "87\n",
      "88\n",
      "89\n",
      "90\n",
      "91\n",
      "92\n",
      "93\n",
      "94\n",
      "95\n",
      "96\n",
      "97\n",
      "98\n",
      "99\n"
     ]
    }
   ],
   "source": [
    "for i in range(100):\n",
    "    print(i)"
   ]
  },
  {
   "cell_type": "code",
   "execution_count": 91,
   "id": "e26e6c8f",
   "metadata": {},
   "outputs": [
    {
     "name": "stdout",
     "output_type": "stream",
     "text": [
      "lists are the most commonly used data structure in python\n",
      "can hold any data type\n",
      "True\n",
      "2.4\n",
      "22\n",
      "[2, 2, 2]\n",
      "1000\n",
      "1000\n",
      "1000\n"
     ]
    }
   ],
   "source": [
    "for i in lst:\n",
    "    print(i)"
   ]
  },
  {
   "cell_type": "code",
   "execution_count": 94,
   "id": "64254b32",
   "metadata": {},
   "outputs": [
    {
     "name": "stdout",
     "output_type": "stream",
     "text": [
      "lists are the most commonly used data structure in python\n",
      "can hold any data type\n"
     ]
    }
   ],
   "source": [
    "for i in lst:\n",
    "    if isinstance(i, str):\n",
    "        print(i)"
   ]
  },
  {
   "cell_type": "code",
   "execution_count": 95,
   "id": "4070c4c8",
   "metadata": {
    "scrolled": true
   },
   "outputs": [
    {
     "data": {
      "text/plain": [
       "[90,\n",
       " 120,\n",
       " 122,\n",
       " 140,\n",
       " 139,\n",
       " 142,\n",
       " 145,\n",
       " 150,\n",
       " 160,\n",
       " 115,\n",
       " 140,\n",
       " 141,\n",
       " 122,\n",
       " 140,\n",
       " 139,\n",
       " 142,\n",
       " 145,\n",
       " 150,\n",
       " 160,\n",
       " 90,\n",
       " 120,\n",
       " 122,\n",
       " 140,\n",
       " 139,\n",
       " 142,\n",
       " 145,\n",
       " 150,\n",
       " 160]"
      ]
     },
     "execution_count": 95,
     "metadata": {},
     "output_type": "execute_result"
    }
   ],
   "source": [
    " queue"
   ]
  },
  {
   "cell_type": "code",
   "execution_count": 97,
   "id": "7a83c629",
   "metadata": {
    "scrolled": true
   },
   "outputs": [
    {
     "name": "stdout",
     "output_type": "stream",
     "text": [
      "You are too short, come back next year!\n",
      "You are too short, come back next year!\n",
      "You are too short, come back next year!\n",
      "You are allowed to ride the attraction 140\n",
      "You are too short, come back next year!\n",
      "You are allowed to ride the attraction 142\n",
      "You are allowed to ride the attraction 145\n",
      "You are allowed to ride the attraction 150\n",
      "You are allowed to ride the attraction 160\n",
      "You are too short, come back next year!\n",
      "You are allowed to ride the attraction 140\n",
      "You are allowed to ride the attraction 141\n",
      "You are too short, come back next year!\n",
      "You are allowed to ride the attraction 140\n",
      "You are too short, come back next year!\n",
      "You are allowed to ride the attraction 142\n",
      "You are allowed to ride the attraction 145\n",
      "You are allowed to ride the attraction 150\n",
      "You are allowed to ride the attraction 160\n",
      "You are too short, come back next year!\n",
      "You are too short, come back next year!\n",
      "You are too short, come back next year!\n",
      "You are allowed to ride the attraction 140\n",
      "You are too short, come back next year!\n",
      "You are allowed to ride the attraction 142\n",
      "You are allowed to ride the attraction 145\n",
      "You are allowed to ride the attraction 150\n",
      "You are allowed to ride the attraction 160\n"
     ]
    }
   ],
   "source": [
    "for person in queue:\n",
    "    if person >= 140:\n",
    "        print(\"You are allowed to ride the attraction\", person)\n",
    "    else:\n",
    "        print(\"You are too short, come back next year!\")"
   ]
  },
  {
   "cell_type": "code",
   "execution_count": 98,
   "id": "9e5adc35",
   "metadata": {},
   "outputs": [
    {
     "data": {
      "text/plain": [
       "[{'name': 'Nintendo Switch', 'price': 3000, 'quantity': 10},\n",
       " {'name': 'AirPods Pro', 'price': 2999, 'quantity': 0},\n",
       " {'name': 'Instant Pot', 'price': 499, 'quantity': 20},\n",
       " {'name': 'Fitbit Charge 4', 'price': 1699, 'quantity': 0},\n",
       " {'name': 'Dyson Airwrap', 'price': 6999, 'quantity': 8}]"
      ]
     },
     "execution_count": 98,
     "metadata": {},
     "output_type": "execute_result"
    }
   ],
   "source": [
    "products"
   ]
  },
  {
   "cell_type": "code",
   "execution_count": 99,
   "id": "ad58e100",
   "metadata": {},
   "outputs": [],
   "source": [
    "out_of_stock = []\n",
    "\n",
    "for product in products:\n",
    "    if product[\"quantity\"] == 0:\n",
    "        out_of_stock.append(product[\"name\"])"
   ]
  },
  {
   "cell_type": "code",
   "execution_count": null,
   "id": "102aaf8a",
   "metadata": {},
   "outputs": [],
   "source": [
    "for product in products:\n",
    "    "
   ]
  },
  {
   "cell_type": "code",
   "execution_count": 100,
   "id": "24bf4e15",
   "metadata": {},
   "outputs": [
    {
     "data": {
      "text/plain": [
       "['AirPods Pro', 'Fitbit Charge 4']"
      ]
     },
     "execution_count": 100,
     "metadata": {},
     "output_type": "execute_result"
    }
   ],
   "source": [
    "out_of_stock"
   ]
  },
  {
   "cell_type": "markdown",
   "id": "a210c408",
   "metadata": {},
   "source": [
    "## While Loops"
   ]
  },
  {
   "cell_type": "code",
   "execution_count": 102,
   "id": "b3f461f5",
   "metadata": {},
   "outputs": [
    {
     "name": "stdout",
     "output_type": "stream",
     "text": [
      "Enter your pass word: fdas\n",
      "Access denied\n",
      "Enter your pass word: sd\n",
      "Access denied\n",
      "Enter your pass word: fd\n",
      "Access denied\n",
      "Enter your pass word: fda\n",
      "Access denied\n",
      "Enter your pass word: df\n",
      "Access denied\n",
      "Enter your pass word: gfwwa\n",
      "Access denied\n",
      "Enter your pass word: password123\n",
      "Access Granted\n"
     ]
    }
   ],
   "source": [
    "password = \"\"\n",
    "\n",
    "while password != \"password123\":\n",
    "    password = input(\"Enter your pass word: \")\n",
    "    if password == \"password123\":\n",
    "        print(\"Access Granted\")\n",
    "    else:\n",
    "        print(\"Access denied\")"
   ]
  },
  {
   "cell_type": "markdown",
   "id": "22f541b9",
   "metadata": {},
   "source": [
    "## Functions"
   ]
  },
  {
   "cell_type": "code",
   "execution_count": 103,
   "id": "d8ccfdc4",
   "metadata": {},
   "outputs": [
    {
     "data": {
      "text/plain": [
       "24"
      ]
     },
     "execution_count": 103,
     "metadata": {},
     "output_type": "execute_result"
    }
   ],
   "source": [
    "sum([12, 12])"
   ]
  },
  {
   "cell_type": "code",
   "execution_count": 104,
   "id": "5624fe19",
   "metadata": {},
   "outputs": [
    {
     "data": {
      "text/plain": [
       "9"
      ]
     },
     "execution_count": 104,
     "metadata": {},
     "output_type": "execute_result"
    }
   ],
   "source": [
    "len(lst)"
   ]
  },
  {
   "cell_type": "code",
   "execution_count": 105,
   "id": "6f7fae1f",
   "metadata": {},
   "outputs": [
    {
     "data": {
      "text/plain": [
       "5"
      ]
     },
     "execution_count": 105,
     "metadata": {},
     "output_type": "execute_result"
    }
   ],
   "source": [
    "abs(-5)"
   ]
  },
  {
   "cell_type": "code",
   "execution_count": 106,
   "id": "780a6df3",
   "metadata": {},
   "outputs": [],
   "source": [
    "def calculate_tip(bill_amount, tip_percent):\n",
    "    tip_amount = bill_amount * tip_percent\n",
    "    return round(tip_amount, 2)"
   ]
  },
  {
   "cell_type": "code",
   "execution_count": 107,
   "id": "a12c5f48",
   "metadata": {},
   "outputs": [
    {
     "data": {
      "text/plain": [
       "85.0"
      ]
     },
     "execution_count": 107,
     "metadata": {},
     "output_type": "execute_result"
    }
   ],
   "source": [
    "calculate_tip(850, .10)"
   ]
  },
  {
   "cell_type": "code",
   "execution_count": 108,
   "id": "069587c1",
   "metadata": {},
   "outputs": [],
   "source": [
    "bills = [123, 355, 446, 3335, 5553, 3009]\n",
    "\n",
    "tips = []\n",
    "\n",
    "for bill in bills:\n",
    "    tip = calculate_tip(bill, .15)\n",
    "    tips.append(tip)\n",
    "    "
   ]
  },
  {
   "cell_type": "code",
   "execution_count": 109,
   "id": "11170e22",
   "metadata": {},
   "outputs": [
    {
     "data": {
      "text/plain": [
       "[18.45, 53.25, 66.9, 500.25, 832.95, 451.35]"
      ]
     },
     "execution_count": 109,
     "metadata": {},
     "output_type": "execute_result"
    }
   ],
   "source": [
    "tips"
   ]
  },
  {
   "cell_type": "code",
   "execution_count": 110,
   "id": "3bc7fea8",
   "metadata": {},
   "outputs": [
    {
     "data": {
      "text/plain": [
       "1923.15"
      ]
     },
     "execution_count": 110,
     "metadata": {},
     "output_type": "execute_result"
    }
   ],
   "source": [
    "sum(tips)"
   ]
  },
  {
   "cell_type": "code",
   "execution_count": null,
   "id": "fc655ea4",
   "metadata": {},
   "outputs": [],
   "source": []
  }
 ],
 "metadata": {
  "kernelspec": {
   "display_name": "Python 3 (ipykernel)",
   "language": "python",
   "name": "python3"
  },
  "language_info": {
   "codemirror_mode": {
    "name": "ipython",
    "version": 3
   },
   "file_extension": ".py",
   "mimetype": "text/x-python",
   "name": "python",
   "nbconvert_exporter": "python",
   "pygments_lexer": "ipython3",
   "version": "3.11.5"
  },
  "varInspector": {
   "cols": {
    "lenName": 16,
    "lenType": 16,
    "lenVar": 40
   },
   "kernels_config": {
    "python": {
     "delete_cmd_postfix": "",
     "delete_cmd_prefix": "del ",
     "library": "var_list.py",
     "varRefreshCmd": "print(var_dic_list())"
    },
    "r": {
     "delete_cmd_postfix": ") ",
     "delete_cmd_prefix": "rm(",
     "library": "var_list.r",
     "varRefreshCmd": "cat(var_dic_list()) "
    }
   },
   "types_to_exclude": [
    "module",
    "function",
    "builtin_function_or_method",
    "instance",
    "_Feature"
   ],
   "window_display": false
  }
 },
 "nbformat": 4,
 "nbformat_minor": 5
}
