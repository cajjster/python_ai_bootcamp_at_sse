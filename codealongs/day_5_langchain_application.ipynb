{
 "cells": [
  {
   "cell_type": "markdown",
   "id": "9d849343",
   "metadata": {},
   "source": [
    "# LangChain Recipe and Shopping Recommender"
   ]
  },
  {
   "cell_type": "code",
   "execution_count": null,
   "id": "e588276b",
   "metadata": {},
   "outputs": [],
   "source": [
    "#!pip install selenium\n",
    "#!pip install openai\n",
    "#!pip install twilio\n",
    "#!pip install langchain\n",
    "#!pip install langchain_openai"
   ]
  },
  {
   "cell_type": "code",
   "execution_count": null,
   "id": "bc3ced62",
   "metadata": {},
   "outputs": [],
   "source": [
    "# Selenium for Browser automation and scraping\n",
    "from selenium import webdriver\n",
    "from selenium.webdriver.common.by import By\n",
    "from selenium.webdriver.support.ui import WebDriverWait\n",
    "\n",
    "# For sending get requests to web pages and apis\n",
    "import requests\n",
    "\n",
    "# Scraping tool\n",
    "from bs4 import BeautifulSoup\n",
    "\n",
    "# APIs that we will use\n",
    "from openai import OpenAI\n",
    "from twilio.rest import Client\n",
    "\n",
    "# Langchain \n",
    "from langchain import PromptTemplate, LLMChain\n",
    "from langchain_openai import ChatOpenAI\n",
    "from langchain.chains import SimpleSequentialChain"
   ]
  },
  {
   "cell_type": "code",
   "execution_count": null,
   "id": "97881cdf",
   "metadata": {},
   "outputs": [],
   "source": [
    "OPENAI_API_KEY=\"pass_your_own_api_key_as_a_string_here\"\n",
    "account_sid=\"pass_your_own_api_key_as_a_string_here\"\n",
    "auth_token=\"pass_your_own_auth_token_as_a_string_here\"\n",
    "my_twilio_number=\"your_twilio_number\"\n",
    "my_phone_number=\"your_own_phone_number\""
   ]
  },
  {
   "cell_type": "code",
   "execution_count": null,
   "id": "26d579a8",
   "metadata": {},
   "outputs": [],
   "source": [
    "# Global Variables\n",
    "url = \"https://www.ica.se/erbjudanden/ica-supermarket-aptiten-1003988/\"\n",
    "client = OpenAI(api_key=OPENAI_API_KEY)\n",
    "client_twilio = Client(account_sid, auth_token)\n"
   ]
  },
  {
   "cell_type": "code",
   "execution_count": null,
   "id": "1b52161c",
   "metadata": {},
   "outputs": [],
   "source": [
    "def scrape_your_local_ica(url):    \n",
    "    driver = webdriver.Chrome()\n",
    "    driver.maximize_window()\n",
    "    driver.get(url)\n",
    "\n",
    "    # Click Agree button\n",
    "    agree_button_selector = \"button#onetrust-accept-btn-handler\"\n",
    "    WebDriverWait(driver, 3)\n",
    "    element = driver.find_element(By.CSS_SELECTOR, agree_button_selector)\n",
    "    element.click()\n",
    "\n",
    "    # scroll to bottom of the page\n",
    "    driver.execute_script(\"window.scrollTo(0, document.body.scrollHeight);\")\n",
    "\n",
    "    # generate a beautiful soup\n",
    "    soup = BeautifulSoup(driver.page_source)\n",
    "\n",
    "    key = \"article > div.offer-card__details-container\"\n",
    "    containers = soup.select(key)\n",
    "\n",
    "    offers = [i.text.replace(\"\\xa0kr. \", \"\") for i in containers]\n",
    "    offers = [i.split(\". \")[:2] for i in offers]\n",
    "\n",
    "    driver.quit()\n",
    "    return offers\n",
    "\n",
    "\n",
    "def send_text(from_number, to_number, text_message):\n",
    "    message = client_twilio.messages.create(\n",
    "            body=text_message,\n",
    "            from_=from_number,\n",
    "            to=to_number)\n",
    "    \n",
    "def write_txt(file_name, content):\n",
    "    with open(file_name, \"w\") as file:\n",
    "        file.write(content)\n",
    "        file.close()\n",
    "        "
   ]
  },
  {
   "cell_type": "code",
   "execution_count": null,
   "id": "08480915",
   "metadata": {},
   "outputs": [],
   "source": [
    "# Initialize LangChain pipeline\n",
    "llm = ChatOpenAI(model=\"gpt-3.5-turbo\", temperature=0.4, api_key=OPENAI_API_KEY) #\"gpt-4o-mini\"\n",
    "\n",
    "\n",
    "# 1. Input Parsing Chain\n",
    "input_parsing_template = \"\"\"\n",
    "You are a chef assistant. Based on the following weekly offers, generate a concise list of ingredients in JSON format:\n",
    "\n",
    "Weekly offers:\n",
    "{offers}\n",
    "\n",
    "Respond with a JSON object.\n",
    "\"\"\"\n",
    "input_parsing_chain = LLMChain(llm=llm, prompt=PromptTemplate.from_template(input_parsing_template))\n",
    "\n",
    "\n",
    "# 2. Recipe Generation Chain\n",
    "recipe_generation_template = \"\"\"\n",
    "Based on the following ingredients, recommend three simple dishes to cook and provide recipes for each. Ensure the dishes are easy to make:\n",
    "\n",
    "Ingredients:\n",
    "{ingredients}\n",
    "\n",
    "Respond with the dish names and recipes.\n",
    "\"\"\"\n",
    "recipe_chain = LLMChain(llm=llm, prompt=PromptTemplate.from_template(recipe_generation_template))\n",
    "\n",
    "\n",
    "# 3. Shopping List Generation Chain\n",
    "shopping_list_template = \"\"\"\n",
    "From the following recipes, create a consolidated shopping list with quantities:\n",
    "\n",
    "Recipes:\n",
    "{recipes}\n",
    "\n",
    "Respond with the shopping list in bullet points.\n",
    "\"\"\"\n",
    "shopping_list_chain = LLMChain(llm=llm, prompt=PromptTemplate.from_template(shopping_list_template))\n",
    "\n",
    "\n",
    "# 4. Output Formatting Chain\n",
    "output_formatting_template = \"\"\"\n",
    "Format the following shopping list for SMS delivery, keeping it concise:\n",
    "\n",
    "Shopping list:\n",
    "{shopping_list}\n",
    "\n",
    "Respond with the formatted text.\n",
    "\"\"\"\n",
    "output_formatting_chain = LLMChain(llm=llm, prompt=PromptTemplate.from_template(output_formatting_template))\n",
    "\n",
    "\n",
    "# Scraping Local ICA supermarket\n",
    "weekly_offers = scrape_your_local_ica(url)\n",
    "\n",
    "# Creating a step-by-step LangChain to have full control of the individual steps\n",
    "parsed_ingredients = input_parsing_chain.invoke({\"offers\":weekly_offers})\n",
    "recipes = recipe_chain.invoke({\"ingredients\": parsed_ingredients[\"text\"]})\n",
    "shopping_list = shopping_list_chain.invoke({\"recipes\":recipes[\"text\"]})\n",
    "formatted_sms = output_formatting_chain.invoke({\"shopping_list\": shopping_list[\"text\"]})\n",
    "\n",
    "# Send shopping list as sms\n",
    "send_text(my_twilo_number, my_phone_number, formatted_sms[\"shopping_list\"])\n",
    "\n",
    "# Write the recipes to text file\n",
    "write_txt(\"Weekly_recipes.txt\", shopping_list[\"recipes\"])"
   ]
  }
 ],
 "metadata": {
  "kernelspec": {
   "display_name": "Python 3 (ipykernel)",
   "language": "python",
   "name": "python3"
  },
  "language_info": {
   "codemirror_mode": {
    "name": "ipython",
    "version": 3
   },
   "file_extension": ".py",
   "mimetype": "text/x-python",
   "name": "python",
   "nbconvert_exporter": "python",
   "pygments_lexer": "ipython3",
   "version": "3.11.5"
  },
  "varInspector": {
   "cols": {
    "lenName": 16,
    "lenType": 16,
    "lenVar": 40
   },
   "kernels_config": {
    "python": {
     "delete_cmd_postfix": "",
     "delete_cmd_prefix": "del ",
     "library": "var_list.py",
     "varRefreshCmd": "print(var_dic_list())"
    },
    "r": {
     "delete_cmd_postfix": ") ",
     "delete_cmd_prefix": "rm(",
     "library": "var_list.r",
     "varRefreshCmd": "cat(var_dic_list()) "
    }
   },
   "types_to_exclude": [
    "module",
    "function",
    "builtin_function_or_method",
    "instance",
    "_Feature"
   ],
   "window_display": false
  }
 },
 "nbformat": 4,
 "nbformat_minor": 5
}
